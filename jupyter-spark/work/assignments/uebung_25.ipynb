{
 "cells": [
  {
   "cell_type": "code",
   "execution_count": 2,
   "id": "d372bd39",
   "metadata": {},
   "outputs": [
    {
     "ename": "ERROR",
     "evalue": "Error in library(corrplot): there is no package called ‘corrplot’\n",
     "output_type": "error",
     "traceback": [
      "Error in library(corrplot): there is no package called ‘corrplot’\nTraceback:\n",
      "1. library(corrplot)"
     ]
    }
   ],
   "source": [
    "library(DBI)\n",
    "library(rJava)\n",
    "library(RJDBC)\n",
    "library(corrplot)\n",
    "library(ggplot2)"
   ]
  },
  {
   "cell_type": "code",
   "execution_count": 3,
   "id": "09e38a89",
   "metadata": {
    "scrolled": false
   },
   "outputs": [
    {
     "name": "stdout",
     "output_type": "stream",
     "text": [
      "[1] \"/drivers/ClouderaHiveJDBC-2.6.2.1002/ClouderaHiveJDBC4-2.6.2.1002/HiveJDBC4.jar\"\n"
     ]
    }
   ],
   "source": [
    "# List all jar files in /drivers\n",
    "cp = list.files(\n",
    "    path=c('/drivers/ClouderaHiveJDBC-2.6.2.1002/ClouderaHiveJDBC4-2.6.2.1002'), \n",
    "    pattern='jar', \n",
    "    full.names=T, \n",
    "    recursive=T)\n",
    "print(cp)"
   ]
  },
  {
   "cell_type": "code",
   "execution_count": 4,
   "id": "b3d049f5",
   "metadata": {
    "scrolled": false
   },
   "outputs": [
    {
     "name": "stdout",
     "output_type": "stream",
     "text": [
      "  database_name\n",
      "1       default\n"
     ]
    }
   ],
   "source": [
    "# Connect to Hive\n",
    ".jinit()\n",
    "drv = JDBC(\n",
    "    driverClass=\"com.cloudera.hive.jdbc4.HS2Driver\", \n",
    "    classPath=cp) \n",
    "conn_str = 'jdbc:postgresql://hive-metastore/metastore:10000/default'\n",
    "conn = dbConnect(drv, \"jdbc:hive2://hiveserver:10000/default;AuthMech=3\", \"hive\", \"hive\", identifier.quote=\" \")\n",
    "show_databases = dbGetQuery(conn, \"show databases\")\n",
    "print(show_databases)"
   ]
  },
  {
   "cell_type": "code",
   "execution_count": 6,
   "id": "8f01e87d",
   "metadata": {},
   "outputs": [
    {
     "ename": "ERROR",
     "evalue": "Error in .verify.JDBC.result(r, \"Unable to retrieve JDBC result set\", : Unable to retrieve JDBC result set\n  JDBC ERROR: [Cloudera][HiveJDBCDriver](500051) ERROR processing query/statement. Error Code: 10001, SQL state: TStatus(statusCode:ERROR_STATUS, infoMessages:[*org.apache.hive.service.cli.HiveSQLException:Error while compiling statement: FAILED: SemanticException [Error 10001]: Line 1:14 Table not found 'ehresp':17:16, org.apache.hive.service.cli.operation.Operation:toSQLException:Operation.java:380, org.apache.hive.service.cli.operation.SQLOperation:prepare:SQLOperation.java:206, org.apache.hive.service.cli.operation.SQLOperation:runInternal:SQLOperation.java:290, org.apache.hive.service.cli.operation.Operation:run:Operation.java:320, org.apache.hive.service.cli.session.HiveSessionImpl:executeStatementInternal:HiveSessionImpl.java:530, org.apache.hive.service.cli.session.HiveSessionImpl:executeStatementAsync:HiveSessionImpl.java:517, org.apache.hive.service.cli.CLIService:executeStatementAsync:CLIService.java:310, org.apache.hive.service.cli.thrift.ThriftCLIService:ExecuteStatement:ThriftCLIService.java:530, org.apache.hive.service.rpc.thrift.TCLIService$Processor$ExecuteStatement:getResult:TCLIService.java:1437, org.apache.hive.service.rpc.thrift.TCLIService$Processor$ExecuteStatement:getResult:TCLIService.java:1422, org.apache.thrift.ProcessFunction:process:ProcessFunction.java:39, org.apache.thrift.TBaseProcessor:process:TBaseProcessor.java:39, org.apache.hive.service.auth.TSetIpAddressProcessor:process:TSetIpAddressProcessor.java:56, org.apache.thrift.server.TThreadPoolServer$WorkerProcess:run:TThreadPoolServer.java:286, java.util.concurrent.ThreadPoolExecutor:runWorker:ThreadPoolExecutor.java:1142, java.util.concurrent.ThreadPoolExecutor$Worker:run:ThreadPoolExecutor.java:617, java.lang.Thread:run:Thread.java:748, *org.apache.hadoop.hive.ql.parse.SemanticException:Line 1:14 Table not found 'ehresp':25:9, org.apache.hadoop.hive.ql.parse.SemanticAnalyzer:getMetaData:SemanticAnalyzer.java:2006, org.apache.hadoop.hive.ql.parse.SemanticAnalyzer:getMetaData:SemanticAnalyzer.java:1934, org.apache.hadoop.hive.ql.parse.SemanticAnalyzer:genResolvedParseTree:SemanticAnalyzer.java:11080, org.apache.hadoop.hive.ql.parse.SemanticAnalyzer:analyzeInternal:SemanticAnalyzer.java:11133, org.apache.hadoop.hive.ql.parse.CalcitePlanner:analyzeInternal:CalcitePlanner.java:286, org.apache.hadoop.hive.ql.parse.BaseSemanticAnalyzer:analyze:BaseSemanticAnalyzer.java:258, org.apache.hadoop.hive.ql.Driver:compile:Driver.java:512, org.apache.hadoop.hive.ql.Driver:compileInternal:Driver.java:1317, org.apache.hadoop.hive.ql.Driver:compileAndRespond:Driver.java:1295, org.apache.hive.service.cli.operation.SQLOperation:prepare:SQLOperation.java:204], sqlState:42S02, errorCode:10001, errorMessage:Error while compiling statement: FAILED: SemanticException [Error 10001]: Line 1:14 Table not found 'ehresp'), Query: select * from big_data.ehresp where euexercise >0 and erbmi>0.\n  Statement: select * from big_data.ehresp where euexercise >0 and erbmi>0\n",
     "output_type": "error",
     "traceback": [
      "Error in .verify.JDBC.result(r, \"Unable to retrieve JDBC result set\", : Unable to retrieve JDBC result set\n  JDBC ERROR: [Cloudera][HiveJDBCDriver](500051) ERROR processing query/statement. Error Code: 10001, SQL state: TStatus(statusCode:ERROR_STATUS, infoMessages:[*org.apache.hive.service.cli.HiveSQLException:Error while compiling statement: FAILED: SemanticException [Error 10001]: Line 1:14 Table not found 'ehresp':17:16, org.apache.hive.service.cli.operation.Operation:toSQLException:Operation.java:380, org.apache.hive.service.cli.operation.SQLOperation:prepare:SQLOperation.java:206, org.apache.hive.service.cli.operation.SQLOperation:runInternal:SQLOperation.java:290, org.apache.hive.service.cli.operation.Operation:run:Operation.java:320, org.apache.hive.service.cli.session.HiveSessionImpl:executeStatementInternal:HiveSessionImpl.java:530, org.apache.hive.service.cli.session.HiveSessionImpl:executeStatementAsync:HiveSessionImpl.java:517, org.apache.hive.service.cli.CLIService:executeStatementAsync:CLIService.java:310, org.apache.hive.service.cli.thrift.ThriftCLIService:ExecuteStatement:ThriftCLIService.java:530, org.apache.hive.service.rpc.thrift.TCLIService$Processor$ExecuteStatement:getResult:TCLIService.java:1437, org.apache.hive.service.rpc.thrift.TCLIService$Processor$ExecuteStatement:getResult:TCLIService.java:1422, org.apache.thrift.ProcessFunction:process:ProcessFunction.java:39, org.apache.thrift.TBaseProcessor:process:TBaseProcessor.java:39, org.apache.hive.service.auth.TSetIpAddressProcessor:process:TSetIpAddressProcessor.java:56, org.apache.thrift.server.TThreadPoolServer$WorkerProcess:run:TThreadPoolServer.java:286, java.util.concurrent.ThreadPoolExecutor:runWorker:ThreadPoolExecutor.java:1142, java.util.concurrent.ThreadPoolExecutor$Worker:run:ThreadPoolExecutor.java:617, java.lang.Thread:run:Thread.java:748, *org.apache.hadoop.hive.ql.parse.SemanticException:Line 1:14 Table not found 'ehresp':25:9, org.apache.hadoop.hive.ql.parse.SemanticAnalyzer:getMetaData:SemanticAnalyzer.java:2006, org.apache.hadoop.hive.ql.parse.SemanticAnalyzer:getMetaData:SemanticAnalyzer.java:1934, org.apache.hadoop.hive.ql.parse.SemanticAnalyzer:genResolvedParseTree:SemanticAnalyzer.java:11080, org.apache.hadoop.hive.ql.parse.SemanticAnalyzer:analyzeInternal:SemanticAnalyzer.java:11133, org.apache.hadoop.hive.ql.parse.CalcitePlanner:analyzeInternal:CalcitePlanner.java:286, org.apache.hadoop.hive.ql.parse.BaseSemanticAnalyzer:analyze:BaseSemanticAnalyzer.java:258, org.apache.hadoop.hive.ql.Driver:compile:Driver.java:512, org.apache.hadoop.hive.ql.Driver:compileInternal:Driver.java:1317, org.apache.hadoop.hive.ql.Driver:compileAndRespond:Driver.java:1295, org.apache.hive.service.cli.operation.SQLOperation:prepare:SQLOperation.java:204], sqlState:42S02, errorCode:10001, errorMessage:Error while compiling statement: FAILED: SemanticException [Error 10001]: Line 1:14 Table not found 'ehresp'), Query: select * from big_data.ehresp where euexercise >0 and erbmi>0.\n  Statement: select * from big_data.ehresp where euexercise >0 and erbmi>0\nTraceback:\n",
      "1. dbGetQuery(conn, \"select * from big_data.ehresp where euexercise >0 and erbmi>0\")",
      "2. dbGetQuery(conn, \"select * from big_data.ehresp where euexercise >0 and erbmi>0\")",
      "3. .local(conn, statement, ...)",
      "4. dbSendQuery(conn, statement, ...)",
      "5. dbSendQuery(conn, statement, ...)",
      "6. .local(conn, statement, ...)",
      "7. .verify.JDBC.result(r, \"Unable to retrieve JDBC result set\", \n .     statement = statement)",
      "8. stop(..., \"\\n  JDBC ERROR: \", .jcall(x, \"S\", \"getMessage\"), statement)"
     ]
    }
   ],
   "source": [
    "# Create plots\n",
    "em <- dbGetQuery(conn, \"select * from big_data.ehresp where euexercise >0 and erbmi>0\");"
   ]
  },
  {
   "cell_type": "code",
   "execution_count": 7,
   "id": "c24c4c1a",
   "metadata": {},
   "outputs": [
    {
     "ename": "ERROR",
     "evalue": "Error in corrplot.mixed(corr = cor(em[, 3:37]), tl.pos = \"lt\"): could not find function \"corrplot.mixed\"\n",
     "output_type": "error",
     "traceback": [
      "Error in corrplot.mixed(corr = cor(em[, 3:37]), tl.pos = \"lt\"): could not find function \"corrplot.mixed\"\nTraceback:\n"
     ]
    }
   ],
   "source": [
    "corrplot.mixed(corr = cor(em[,3:37]),tl.pos = \"lt\")\n",
    "ggplot(em[],aes(em$erbmi))+geom_density(color=\"blue\",fill=\"green\",lwd=1.2)\n",
    "ggplot(em[],aes(group=em$euexercise, x = em$euexercise,y = em$erbmi,fill=em$euexercise))+  geom_boxplot()"
   ]
  }
 ],
 "metadata": {
  "kernelspec": {
   "display_name": "R",
   "language": "R",
   "name": "ir"
  },
  "language_info": {
   "codemirror_mode": "r",
   "file_extension": ".r",
   "mimetype": "text/x-r-source",
   "name": "R",
   "pygments_lexer": "r",
   "version": "4.0.3"
  }
 },
 "nbformat": 4,
 "nbformat_minor": 5
}
