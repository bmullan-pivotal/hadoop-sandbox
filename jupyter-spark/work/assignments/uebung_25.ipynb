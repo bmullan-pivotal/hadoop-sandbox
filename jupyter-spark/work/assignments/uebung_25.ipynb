{
 "cells": [
  {
   "cell_type": "code",
   "execution_count": 1,
   "id": "d372bd39",
   "metadata": {},
   "outputs": [
    {
     "name": "stderr",
     "output_type": "stream",
     "text": [
      "corrplot 0.84 loaded\n",
      "\n"
     ]
    }
   ],
   "source": [
    "library(DBI)\n",
    "library(rJava)\n",
    "library(RJDBC)\n",
    "library(corrplot)\n",
    "library(ggplot2)"
   ]
  },
  {
   "cell_type": "code",
   "execution_count": 2,
   "id": "a0e67724",
   "metadata": {},
   "outputs": [
    {
     "name": "stdout",
     "output_type": "stream",
     "text": [
      "[1] \"/drivers/JDBC_HIVE/COMMON_6.0.0_INSTALL.iam\"            \n",
      "[2] \"/drivers/JDBC_HIVE/DOCUMENTATION_6.0.0_INSTALL.iam\"     \n",
      "[3] \"/drivers/JDBC_HIVE/HIVE_6.0.1_INSTALL.iam\"              \n",
      "[4] \"/drivers/JDBC_HIVE/PROGRESS_DATADIRECT_JDBC_INSTALL.jar\"\n"
     ]
    }
   ],
   "source": [
    "print(list.files(path=c('/drivers/JDBC_HIVE'), full.names=T))"
   ]
  },
  {
   "cell_type": "code",
   "execution_count": 3,
   "id": "09e38a89",
   "metadata": {
    "scrolled": false
   },
   "outputs": [
    {
     "name": "stdout",
     "output_type": "stream",
     "text": [
      " [1] \"/drivers/JDBC_HIVE/COMMON_6.0.0_INSTALL.iam/$IA_MERGE_RESOURCES$/jdbc_common_1612173677943/2ee22f6299d896b986423dca5b2ba384/commons-codec-1.8.jar.ccm\"                   \n",
      " [2] \"/drivers/JDBC_HIVE/COMMON_6.0.0_INSTALL.iam/$IA_MERGE_RESOURCES$/jdbc_common_1612173677943/3aeb15a444fc6a4450269dfadf0ad389/jdbc_common_aix32.manifest_zg_ia_sf.jar\"     \n",
      " [3] \"/drivers/JDBC_HIVE/COMMON_6.0.0_INSTALL.iam/$IA_MERGE_RESOURCES$/jdbc_common_1612173677943/3aeb15a444fc6a4450269dfadf0ad389/jdbc_common_hpia32.manifest_zg_ia_sf.jar\"    \n",
      " [4] \"/drivers/JDBC_HIVE/COMMON_6.0.0_INSTALL.iam/$IA_MERGE_RESOURCES$/jdbc_common_1612173677943/3aeb15a444fc6a4450269dfadf0ad389/jdbc_common_hprisc32.manifest_zg_ia_sf.jar\"  \n",
      " [5] \"/drivers/JDBC_HIVE/COMMON_6.0.0_INSTALL.iam/$IA_MERGE_RESOURCES$/jdbc_common_1612173677943/3aeb15a444fc6a4450269dfadf0ad389/jdbc_common_linux32.manifest_zg_ia_sf.jar\"   \n",
      " [6] \"/drivers/JDBC_HIVE/COMMON_6.0.0_INSTALL.iam/$IA_MERGE_RESOURCES$/jdbc_common_1612173677943/3aeb15a444fc6a4450269dfadf0ad389/jdbc_common_linuxia64.manifest_zg_ia_sf.jar\" \n",
      " [7] \"/drivers/JDBC_HIVE/COMMON_6.0.0_INSTALL.iam/$IA_MERGE_RESOURCES$/jdbc_common_1612173677943/3aeb15a444fc6a4450269dfadf0ad389/jdbc_common_other.manifest_zg_ia_sf.jar\"     \n",
      " [8] \"/drivers/JDBC_HIVE/COMMON_6.0.0_INSTALL.iam/$IA_MERGE_RESOURCES$/jdbc_common_1612173677943/3aeb15a444fc6a4450269dfadf0ad389/jdbc_common_solaris32.manifest_zg_ia_sf.jar\" \n",
      " [9] \"/drivers/JDBC_HIVE/COMMON_6.0.0_INSTALL.iam/$IA_MERGE_RESOURCES$/jdbc_common_1612173677943/3aeb15a444fc6a4450269dfadf0ad389/jdbc_common_solarisx32.manifest_zg_ia_sf.jar\"\n",
      "[10] \"/drivers/JDBC_HIVE/COMMON_6.0.0_INSTALL.iam/$IA_MERGE_RESOURCES$/jdbc_common_1612173677943/3aeb15a444fc6a4450269dfadf0ad389/jdbc_common_win32.manifest_zg_ia_sf.jar\"     \n",
      "[11] \"/drivers/JDBC_HIVE/COMMON_6.0.0_INSTALL.iam/$IA_MERGE_RESOURCES$/jdbc_common_1612173677943/3aeb15a444fc6a4450269dfadf0ad389/jdbc_common.manifest_zg_ia_sf.jar\"           \n",
      "[12] \"/drivers/JDBC_HIVE/COMMON_6.0.0_INSTALL.iam/$IA_MERGE_RESOURCES$/jdbc_common_1612173677943/728f877b4d37471bd2d867d37e82f68f/ismpHpUxNativeLib.jar.ccm\"                   \n",
      "[13] \"/drivers/JDBC_HIVE/COMMON_6.0.0_INSTALL.iam/$IA_MERGE_RESOURCES$/jdbc_common_1612173677943/9a75cc8c8dd333be85eeda823b32bc9a/DDInstallRegistryXMLAction.jar.ccm\"          \n",
      "[14] \"/drivers/JDBC_HIVE/COMMON_6.0.0_INSTALL.iam/$IA_MERGE_RESOURCES$/jdbc_common_1612173677943/9a75cc8c8dd333be85eeda823b32bc9a/DDUninstallRegistryAction.jar.ccm\"           \n",
      "[15] \"/drivers/JDBC_HIVE/COMMON_6.0.0_INSTALL.iam/$IA_MERGE_RESOURCES$/jdbc_common_1612173677943/9a75cc8c8dd333be85eeda823b32bc9a/MergeFilesAction.jar.ccm\"                    \n",
      "[16] \"/drivers/JDBC_HIVE/COMMON_6.0.0_INSTALL.iam/$IA_MERGE_RESOURCES$/jdbc_common_1612173677943/9a75cc8c8dd333be85eeda823b32bc9a/PropertiesFileReader.jar.ccm\"                \n",
      "[17] \"/drivers/JDBC_HIVE/DOCUMENTATION_6.0.0_INSTALL.iam/$IA_MERGE_RESOURCES$/jdbc_doc_1612942007326/2ee22f6299d896b986423dca5b2ba384/commons-codec-1.8.jar.ccm\"               \n",
      "[18] \"/drivers/JDBC_HIVE/DOCUMENTATION_6.0.0_INSTALL.iam/$IA_MERGE_RESOURCES$/jdbc_doc_1612942007326/3aeb15a444fc6a4450269dfadf0ad389/jdbc_doc.manifest_zg_ia_sf.jar\"          \n",
      "[19] \"/drivers/JDBC_HIVE/DOCUMENTATION_6.0.0_INSTALL.iam/$IA_MERGE_RESOURCES$/jdbc_doc_1612942007326/728f877b4d37471bd2d867d37e82f68f/ismpHpUxNativeLib.jar.ccm\"               \n",
      "[20] \"/drivers/JDBC_HIVE/DOCUMENTATION_6.0.0_INSTALL.iam/$IA_MERGE_RESOURCES$/jdbc_doc_1612942007326/bad7edb57db079b7f4823e04e2cd5b8f/DDInstallRegistryXMLAction.jar.ccm\"      \n",
      "[21] \"/drivers/JDBC_HIVE/DOCUMENTATION_6.0.0_INSTALL.iam/$IA_MERGE_RESOURCES$/jdbc_doc_1612942007326/bad7edb57db079b7f4823e04e2cd5b8f/DDUninstallRegistryAction.jar.ccm\"       \n",
      "[22] \"/drivers/JDBC_HIVE/HIVE_6.0.1_INSTALL.iam/$IA_MERGE_RESOURCES$/hive_1612175123545/2ee22f6299d896b986423dca5b2ba384/commons-codec-1.8.jar.ccm\"                            \n",
      "[23] \"/drivers/JDBC_HIVE/HIVE_6.0.1_INSTALL.iam/$IA_MERGE_RESOURCES$/hive_1612175123545/3aeb15a444fc6a4450269dfadf0ad389/hive.manifest_zg_ia_sf.jar\"                           \n",
      "[24] \"/drivers/JDBC_HIVE/HIVE_6.0.1_INSTALL.iam/$IA_MERGE_RESOURCES$/hive_1612175123545/5407caf5116f5f59625c2208c7de4bc6/DDInstallRegistryXMLAction.jar.ccm\"                   \n",
      "[25] \"/drivers/JDBC_HIVE/HIVE_6.0.1_INSTALL.iam/$IA_MERGE_RESOURCES$/hive_1612175123545/5407caf5116f5f59625c2208c7de4bc6/DDUninstallRegistryAction.jar.ccm\"                    \n",
      "[26] \"/drivers/JDBC_HIVE/HIVE_6.0.1_INSTALL.iam/$IA_MERGE_RESOURCES$/hive_1612175123545/5407caf5116f5f59625c2208c7de4bc6/ModifyString.jar.ccm\"                                 \n",
      "[27] \"/drivers/JDBC_HIVE/HIVE_6.0.1_INSTALL.iam/$IA_MERGE_RESOURCES$/hive_1612175123545/5407caf5116f5f59625c2208c7de4bc6/PropertiesFileReader(fix).jar.ccm\"                    \n",
      "[28] \"/drivers/JDBC_HIVE/HIVE_6.0.1_INSTALL.iam/$IA_MERGE_RESOURCES$/hive_1612175123545/f3af5a2051f2737e29646f6b674e7153/JDBCDriverCustomcode.jar.ccm\"                         \n",
      "[29] \"/drivers/JDBC_HIVE/HIVE_6.0.1_INSTALL.iam/MakeExecutableAction_zg_ia_sf.jar\"                                                                                             \n",
      "[30] \"/drivers/JDBC_HIVE/HIVE_6.0.1_INSTALL.iam/uninstallerCustomCode.jar\"                                                                                                     \n",
      "[31] \"/drivers/JDBC_HIVE/PROGRESS_DATADIRECT_JDBC_INSTALL.jar\"                                                                                                                 \n"
     ]
    }
   ],
   "source": [
    "# List all jar files in /drivers\n",
    "cp = list.files(path=c('/drivers/JDBC_HIVE'), pattern='jar', full.names=T, recursive=T)\n",
    "print(cp)"
   ]
  },
  {
   "cell_type": "code",
   "execution_count": 4,
   "id": "b3d049f5",
   "metadata": {
    "scrolled": false
   },
   "outputs": [
    {
     "ename": "ERROR",
     "evalue": "Error in .jfindClass(as.character(driverClass)[1]): java.lang.ClassNotFoundException\n",
     "output_type": "error",
     "traceback": [
      "Error in .jfindClass(as.character(driverClass)[1]): java.lang.ClassNotFoundException\nTraceback:\n",
      "1. JDBC(\"com.ddtek.jdbc.hive.HiveDriver\", \"hive-jdbc.jar\")",
      "2. is.jnull(.jfindClass(as.character(driverClass)[1]))",
      "3. .jfindClass(as.character(driverClass)[1])"
     ]
    }
   ],
   "source": [
    "# Connect to Hive\n",
    "drv = JDBC(\n",
    "    driverClass=\"com.ddtek.jdbc.hive.HiveDriver\", # https://docs.progress.com/bundle/datadirect-apache-hive-jdbc-60/page/Data-source-and-driver-classes.html\n",
    "    classPath=\"hive-jdbc.jar\") # https://docs.progress.com/bundle/datadirect-apache-hive-jdbc-60/page/Setting-the-classpath.html\n",
    "conn_str = 'jdbc:postgresql://hive-metastore/metastore:10000/default'\n",
    "conn = dbConnect(drv, conn_str, \"hive\", \"hive\", identifier.quote=\" \")\n",
    "show_databases = dbGetQuery(conn, \"show databases\")\n",
    "print(show_databases)"
   ]
  },
  {
   "cell_type": "code",
   "execution_count": null,
   "id": "c24c4c1a",
   "metadata": {},
   "outputs": [],
   "source": [
    "# Create plots\n",
    "em <- dbGetQuery(conn, \"select * from big_data.ehresp where euexercise >0 and erbmi>0\");\n",
    "corrplot.mixed(corr = cor(em[,3:37]),tl.pos = \"lt\")\n",
    "ggplot(em[],aes(em$erbmi))+geom_density(color=\"blue\",fill=\"green\",lwd=1.2)\n",
    "ggplot(em[],aes(group=em$euexercise, x = em$euexercise,y = em$erbmi,fill=em$euexercise))+  geom_boxplot()"
   ]
  },
  {
   "cell_type": "code",
   "execution_count": 5,
   "id": "0c2f33ba",
   "metadata": {},
   "outputs": [],
   "source": [
    "help(JDBC)"
   ]
  }
 ],
 "metadata": {
  "kernelspec": {
   "display_name": "R",
   "language": "R",
   "name": "ir"
  },
  "language_info": {
   "codemirror_mode": "r",
   "file_extension": ".r",
   "mimetype": "text/x-r-source",
   "name": "R",
   "pygments_lexer": "r",
   "version": "4.0.3"
  }
 },
 "nbformat": 4,
 "nbformat_minor": 5
}
